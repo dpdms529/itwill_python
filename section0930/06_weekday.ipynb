{
 "cells": [
  {
   "cell_type": "markdown",
   "id": "d0ebdaf4",
   "metadata": {},
   "source": [
    "**문제) 요일 구하기**\n",
    "\n",
    "서기 1년 1월 1일 ~ 2025년 9월 30일 까지의 총 날수: ?????? % 7 구하기\n",
    "\n",
    "나머지 0 일, 1 월, 2 화, 3 수, 4 목, 5 금, 6 토\n",
    "\n",
    "**1단계**\n",
    "\n",
    "서기 1년 ~ 2024년\n",
    "\n",
    "평년이면 += 365\n",
    "\n",
    "윤년이면 += 366\n",
    "\n",
    "**2단계**\n",
    "\n",
    "1월 ~ 8월\n",
    "\n",
    "31일 : 1, 3, 5, 7, 8, 10, 12\n",
    "\n",
    "30일 : 4, 6, 9, 11\n",
    "\n",
    "29일 : 2 => 윤년\n",
    "\n",
    "28일 : 2 => 평년\n",
    "\n",
    "**3단계**\n",
    "\n",
    "일수(30) 더하기"
   ]
  },
  {
   "cell_type": "code",
   "execution_count": 67,
   "id": "92497693",
   "metadata": {},
   "outputs": [],
   "source": [
    "# 변수 선언하기\n",
    "cYear = 2025\n",
    "cMonth = 9\n",
    "cDate = 30\n",
    "\n",
    "hap = 0 # 총 날수"
   ]
  },
  {
   "cell_type": "code",
   "execution_count": 68,
   "id": "87ad3a06",
   "metadata": {},
   "outputs": [
    {
     "name": "stdout",
     "output_type": "stream",
     "text": [
      "739251\n"
     ]
    }
   ],
   "source": [
    "# 1단계\n",
    "for year in range(1, cYear):\n",
    "    if (year % 4 == 0 and year % 100 != 0) or year % 400 == 0:\n",
    "        hap += 366\n",
    "    else:\n",
    "        hap += 365\n",
    "\n",
    "print(hap)"
   ]
  },
  {
   "cell_type": "code",
   "execution_count": null,
   "id": "84d308bc",
   "metadata": {},
   "outputs": [
    {
     "name": "stdout",
     "output_type": "stream",
     "text": [
      "739524\n"
     ]
    }
   ],
   "source": [
    "# 2단계\n",
    "dal = [0, 31, 28, 31, 30, 31, 30, 31, 31, 30, 31, 30, 31]\n",
    "if (cYear % 4 == 0 and cYear % 100 != 0) or cYear % 400 == 0:\n",
    "    dal[2] = 29\n",
    "\n",
    "for month in range(1, cMonth):\n",
    "    hap += dal[month]\n",
    "    \n",
    "# for month in range(1, cMonth):\n",
    "#     if month in [1, 3, 5, 7, 8, 10, 12]:\n",
    "#         hap += 31\n",
    "#     elif month in [4, 6, 9, 11]:\n",
    "#         hap += 30\n",
    "#     elif month == 2:\n",
    "#         if (cYear % 4 == 0 and cYear % 100 != 0) or cYear % 400 == 0:\n",
    "#             hap += 29\n",
    "#         else:\n",
    "#             hap += 28\n",
    "\n",
    "# 3단계\n",
    "hap += cDate\n",
    "\n",
    "print(hap)"
   ]
  },
  {
   "cell_type": "code",
   "execution_count": 70,
   "id": "beffaf5f",
   "metadata": {},
   "outputs": [
    {
     "name": "stdout",
     "output_type": "stream",
     "text": [
      "화\n"
     ]
    }
   ],
   "source": [
    "day = ('일', '월', '화', '수', '목', '금', '토')\n",
    "\n",
    "d = hap % 7\n",
    "\n",
    "print(day[d])"
   ]
  }
 ],
 "metadata": {
  "kernelspec": {
   "display_name": "Python 3",
   "language": "python",
   "name": "python3"
  },
  "language_info": {
   "codemirror_mode": {
    "name": "ipython",
    "version": 3
   },
   "file_extension": ".py",
   "mimetype": "text/x-python",
   "name": "python",
   "nbconvert_exporter": "python",
   "pygments_lexer": "ipython3",
   "version": "3.13.7"
  }
 },
 "nbformat": 4,
 "nbformat_minor": 5
}
